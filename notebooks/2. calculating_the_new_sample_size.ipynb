{
 "cells": [
  {
   "cell_type": "markdown",
   "id": "c6e93818",
   "metadata": {},
   "source": [
    "# Importação das Bibliotecas"
   ]
  },
  {
   "cell_type": "code",
   "execution_count": 20,
   "id": "61c20268",
   "metadata": {},
   "outputs": [],
   "source": [
    "import numpy as np\n",
    "import pandas as pd\n",
    "import scipy.stats as stats\n",
    "from scipy import stats\n",
    "import scipy.stats as st"
   ]
  },
  {
   "cell_type": "markdown",
   "id": "cdca1e07",
   "metadata": {},
   "source": [
    "# Leitura da Base"
   ]
  },
  {
   "cell_type": "code",
   "execution_count": 2,
   "id": "d700530b",
   "metadata": {},
   "outputs": [
    {
     "data": {
      "text/html": [
       "<div>\n",
       "<style scoped>\n",
       "    .dataframe tbody tr th:only-of-type {\n",
       "        vertical-align: middle;\n",
       "    }\n",
       "\n",
       "    .dataframe tbody tr th {\n",
       "        vertical-align: top;\n",
       "    }\n",
       "\n",
       "    .dataframe thead th {\n",
       "        text-align: right;\n",
       "    }\n",
       "</style>\n",
       "<table border=\"1\" class=\"dataframe\">\n",
       "  <thead>\n",
       "    <tr style=\"text-align: right;\">\n",
       "      <th></th>\n",
       "      <th>ID</th>\n",
       "      <th>Altura</th>\n",
       "    </tr>\n",
       "  </thead>\n",
       "  <tbody>\n",
       "    <tr>\n",
       "      <th>0</th>\n",
       "      <td>1</td>\n",
       "      <td>1.412</td>\n",
       "    </tr>\n",
       "    <tr>\n",
       "      <th>1</th>\n",
       "      <td>2</td>\n",
       "      <td>1.966</td>\n",
       "    </tr>\n",
       "    <tr>\n",
       "      <th>2</th>\n",
       "      <td>3</td>\n",
       "      <td>2.666</td>\n",
       "    </tr>\n",
       "    <tr>\n",
       "      <th>3</th>\n",
       "      <td>4</td>\n",
       "      <td>2.000</td>\n",
       "    </tr>\n",
       "    <tr>\n",
       "      <th>4</th>\n",
       "      <td>5</td>\n",
       "      <td>1.402</td>\n",
       "    </tr>\n",
       "  </tbody>\n",
       "</table>\n",
       "</div>"
      ],
      "text/plain": [
       "   ID  Altura\n",
       "0   1   1.412\n",
       "1   2   1.966\n",
       "2   3   2.666\n",
       "3   4   2.000\n",
       "4   5   1.402"
      ]
     },
     "execution_count": 2,
     "metadata": {},
     "output_type": "execute_result"
    }
   ],
   "source": [
    "# Leitura da planilha \n",
    "DADOS = r\"C:\\Users\\rodri\\OneDrive\\Sincronização\\Documentos\\GitHub\\confidence-interval-car-suitability-sweden\\data\\sample_population_height.xlsx\"\n",
    "df = pd.read_excel(DADOS)\n",
    "\n",
    "# Visualizar as primeiras linhas da tabela\n",
    "df.head()"
   ]
  },
  {
   "cell_type": "markdown",
   "id": "b7d9bcac",
   "metadata": {},
   "source": [
    "# Novo Problema de Negócio"
   ]
  },
  {
   "cell_type": "markdown",
   "id": "cbd21309",
   "metadata": {},
   "source": [
    "Após a primeira análise da altura média dos suecos, um fabricante de automóveis percebeu que a decisão de adaptar ou não os bancos para exportação exigia um estudo mais preciso. A empresa compreendeu que a amostra inicial, embora útil, poderia não oferecer a acurácia necessária para embasar essa decisão estratégica.\n",
    "\n",
    "Diante disso, a equipe de engenharia solicitou uma nova análise estatística para garantir um ajuste ergonômico ideal ao consumidor sueco. O objetivo era reduzir a margem de erro dos cálculos e obter maior confiabilidade nos dados antes de modificar o design do veículo.\n",
    "\n",
    "Desafio de Negócio\n",
    "A montadora pediu dois cálculos essenciais para aprimorar sua tomada de decisão:\n",
    "\n",
    "- Margem de erro dos intervalos de confiança já calculados.\n",
    "- Tamanho necessário da amostra para garantir uma margem de erro inferior a 1 cm, considerando três níveis de confiança: 90%, 95% e 99%."
   ]
  },
  {
   "cell_type": "code",
   "execution_count": 5,
   "id": "1fa8c53e",
   "metadata": {},
   "outputs": [
    {
     "name": "stdout",
     "output_type": "stream",
     "text": [
      "Média: 1.82\n",
      "Tamanho da Amostra: 50\n",
      "Variância Amostral: 0.08\n",
      "Erro Padrão da Média: 0.04\n"
     ]
    }
   ],
   "source": [
    "# Definição da variável da 'amostra'\n",
    "amostra = df[\"Altura\"].to_numpy()\n",
    "\n",
    "# Estatísticas básicas\n",
    "media = np.mean(amostra)\n",
    "n = len(amostra)\n",
    "variancia_amostral = np.var(amostra, ddof=1)\n",
    "erro_padrao = np.sqrt(variancia_amostral / n)\n",
    "\n",
    "# Exibir os resultados\n",
    "print(f\"Média: {media:.2f}\")\n",
    "print(f\"Tamanho da Amostra: {n}\")\n",
    "print(f\"Variância Amostral: {variancia_amostral:.2f}\")\n",
    "print(f\"Erro Padrão da Média: {erro_padrao:.2f}\")"
   ]
  },
  {
   "cell_type": "code",
   "execution_count": 30,
   "id": "c7351f49",
   "metadata": {},
   "outputs": [
    {
     "name": "stdout",
     "output_type": "stream",
     "text": [
      "\n",
      " Intervalo de Confiança de 90%:\n",
      "T-Crítico: 1.68\n",
      "Limite Inferior: 1.75\n",
      "Limite Superior: 1.89\n",
      "\n",
      " Intervalo de Confiança de 95%:\n",
      "T-Crítico: 2.01\n",
      "Limite Inferior: 1.74\n",
      "Limite Superior: 1.90\n",
      "\n",
      " Intervalo de Confiança de 99%:\n",
      "T-Crítico: 2.68\n",
      "Limite Inferior: 1.71\n",
      "Limite Superior: 1.92\n"
     ]
    }
   ],
   "source": [
    "# Nível de confiança de 90%\n",
    "conf_90 = 0.90\n",
    "\n",
    "# Nível de confiança de 95%\n",
    "conf_95 = 0.95\n",
    "\n",
    "# Nível de confiança de 99%\n",
    "conf_99 = 0.99\n",
    "\n",
    "# Função para calcular intervalo de confiança\n",
    "def intervalo_confianca(conf, media, erro_padrao, n):\n",
    "    t_critico = abs(stats.t.ppf((1 - conf) / 2, df=n-1))\n",
    "    limite_inferior = media - t_critico * erro_padrao\n",
    "    limite_superior = media + t_critico * erro_padrao\n",
    "    return t_critico, limite_inferior, limite_superior\n",
    "\n",
    "# Intervalo de confiança de 90%\n",
    "t_critico_90, limite_inferior_90, limite_superior_90 = intervalo_confianca(conf_90, media, erro_padrao, n)\n",
    "\n",
    "# Intervalo de confiança de 95%\n",
    "t_critico_95, limite_inferior_95, limite_superior_95 = intervalo_confianca(conf_95, media, erro_padrao, n)\n",
    "\n",
    "# Intervalo de confiança de 99%\n",
    "t_critico_99, limite_inferior_99, limite_superior_99 = intervalo_confianca(conf_99, media, erro_padrao, n)\n",
    "\n",
    "# Exibir resultados\n",
    "print(\"\\n Intervalo de Confiança de 90%:\")\n",
    "print(f\"T-Crítico: {t_critico_90:.2f}\")\n",
    "print(f\"Limite Inferior: {limite_inferior_90:.2f}\")\n",
    "print(f\"Limite Superior: {limite_superior_90:.2f}\")\n",
    "\n",
    "# Exibir resultados\n",
    "print(\"\\n Intervalo de Confiança de 95%:\")\n",
    "print(f\"T-Crítico: {t_critico_95:.2f}\")\n",
    "print(f\"Limite Inferior: {limite_inferior_95:.2f}\")\n",
    "print(f\"Limite Superior: {limite_superior_95:.2f}\")\n",
    "\n",
    "print(\"\\n Intervalo de Confiança de 99%:\")\n",
    "print(f\"T-Crítico: {t_critico_99:.2f}\")\n",
    "print(f\"Limite Inferior: {limite_inferior_99:.2f}\")\n",
    "print(f\"Limite Superior: {limite_superior_99:.2f}\")"
   ]
  },
  {
   "cell_type": "code",
   "execution_count": 18,
   "id": "848061d0",
   "metadata": {},
   "outputs": [
    {
     "name": "stdout",
     "output_type": "stream",
     "text": [
      "Margem de Erro para um Nível de Confiança de 90%\n",
      "Erro: 0.07\n",
      "========================================\n",
      "Margem de Erro para um Nível de Confiança de 95%\n",
      "Erro: 0.08\n",
      "========================================\n",
      "Margem de Erro para um Nível de Confiança de 99%\n",
      "Erro: 0.11\n"
     ]
    }
   ],
   "source": [
    "margem_de_erro_90 = abs((limite_inferior_90 - media).round(2))\n",
    "margem_de_erro_95 = abs((limite_inferior_95 - media).round(2))\n",
    "margem_de_erro_99 = abs((limite_inferior_99 - media).round(2))\n",
    "\n",
    "print(\"Margem de Erro para um Nível de Confiança de 90%\")\n",
    "print(f\"Erro: {margem_de_erro_90}\")\n",
    "print(\"=\"*40)\n",
    "print(\"Margem de Erro para um Nível de Confiança de 95%\")\n",
    "print(f\"Erro: {margem_de_erro_95}\")\n",
    "print(\"=\"*40)\n",
    "print(\"Margem de Erro para um Nível de Confiança de 99%\")\n",
    "print(f\"Erro: {margem_de_erro_99}\")"
   ]
  },
  {
   "cell_type": "code",
   "execution_count": 27,
   "id": "fa7891bb",
   "metadata": {},
   "outputs": [
    {
     "name": "stdout",
     "output_type": "stream",
     "text": [
      "==================================================\n",
      "Nível de Confiança: 90%\n",
      "Valor Crítico Z: 1.64\n",
      "Novo tamanho da amostra necessário: 2164\n",
      "==================================================\n",
      "Nível de Confiança: 95%\n",
      "Valor Crítico Z: 1.96\n",
      "Novo tamanho da amostra necessário: 3073\n",
      "==================================================\n",
      "Nível de Confiança: 99%\n",
      "Valor Crítico Z: 2.58\n",
      "Novo tamanho da amostra necessário: 5308\n",
      "==================================================\n"
     ]
    }
   ],
   "source": [
    "# Parâmetros conhecidos\n",
    "variancia_amostral = 0.08  # Variância da amostra\n",
    "margem_de_erro_1cm = 0.01  # Margem de erro desejada (1 cm)\n",
    "\n",
    "# Lista de níveis de confiança\n",
    "niveis_confianca = [0.90, 0.95, 0.99]\n",
    "\n",
    "# Cálculo para cada nível de confiança\n",
    "for conf in niveis_confianca:\n",
    "    # Obtendo o valor crítico Z correspondente ao nível de confiança\n",
    "    z = st.norm.ppf(1 - (1 - conf) / 2)\n",
    "\n",
    "    # Calculando o novo tamanho da amostra necessário\n",
    "    novo_n = (variancia_amostral * (z ** 2)) / (margem_de_erro_1cm ** 2)\n",
    "\n",
    "    # Exibindo os resultados formatados\n",
    "    print(\"=\" * 50)\n",
    "    print(f\"Nível de Confiança: {int(conf * 100)}%\")\n",
    "    print(f\"Valor Crítico Z: {z:.2f}\")\n",
    "    print(f\"Novo tamanho da amostra necessário: {round(novo_n)}\")\n",
    "print(\"=\" * 50)"
   ]
  }
 ],
 "metadata": {
  "kernelspec": {
   "display_name": "Python (venv)",
   "language": "python",
   "name": "venv"
  },
  "language_info": {
   "codemirror_mode": {
    "name": "ipython",
    "version": 3
   },
   "file_extension": ".py",
   "mimetype": "text/x-python",
   "name": "python",
   "nbconvert_exporter": "python",
   "pygments_lexer": "ipython3",
   "version": "3.13.0"
  }
 },
 "nbformat": 4,
 "nbformat_minor": 5
}
