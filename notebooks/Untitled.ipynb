{
 "cells": [
  {
   "cell_type": "code",
   "execution_count": 1,
   "id": "d634f16f",
   "metadata": {},
   "outputs": [],
   "source": [
    "import numpy as np\n",
    "import pandas as pd\n",
    "import scipy.stats as stats\n",
    "from scipy import stats"
   ]
  },
  {
   "cell_type": "code",
   "execution_count": 2,
   "id": "696990e3",
   "metadata": {},
   "outputs": [
    {
     "data": {
      "text/html": [
       "<div>\n",
       "<style scoped>\n",
       "    .dataframe tbody tr th:only-of-type {\n",
       "        vertical-align: middle;\n",
       "    }\n",
       "\n",
       "    .dataframe tbody tr th {\n",
       "        vertical-align: top;\n",
       "    }\n",
       "\n",
       "    .dataframe thead th {\n",
       "        text-align: right;\n",
       "    }\n",
       "</style>\n",
       "<table border=\"1\" class=\"dataframe\">\n",
       "  <thead>\n",
       "    <tr style=\"text-align: right;\">\n",
       "      <th></th>\n",
       "      <th>ID</th>\n",
       "      <th>Altura</th>\n",
       "    </tr>\n",
       "  </thead>\n",
       "  <tbody>\n",
       "    <tr>\n",
       "      <th>0</th>\n",
       "      <td>1</td>\n",
       "      <td>1.412</td>\n",
       "    </tr>\n",
       "    <tr>\n",
       "      <th>1</th>\n",
       "      <td>2</td>\n",
       "      <td>1.966</td>\n",
       "    </tr>\n",
       "    <tr>\n",
       "      <th>2</th>\n",
       "      <td>3</td>\n",
       "      <td>2.666</td>\n",
       "    </tr>\n",
       "    <tr>\n",
       "      <th>3</th>\n",
       "      <td>4</td>\n",
       "      <td>2.000</td>\n",
       "    </tr>\n",
       "    <tr>\n",
       "      <th>4</th>\n",
       "      <td>5</td>\n",
       "      <td>1.402</td>\n",
       "    </tr>\n",
       "  </tbody>\n",
       "</table>\n",
       "</div>"
      ],
      "text/plain": [
       "   ID  Altura\n",
       "0   1   1.412\n",
       "1   2   1.966\n",
       "2   3   2.666\n",
       "3   4   2.000\n",
       "4   5   1.402"
      ]
     },
     "execution_count": 2,
     "metadata": {},
     "output_type": "execute_result"
    }
   ],
   "source": [
    "# Leitura da planilha \n",
    "DADOS = r\"C:\\Users\\rodri\\OneDrive\\Sincronização\\Documentos\\GitHub\\confidence-interval-car-suitability-sweden\\data\\sample_population_height.xlsx\"\n",
    "df = pd.read_excel(DADOS)\n",
    "\n",
    "# Visualizar as primeiras linhas da tabela\n",
    "df.head()"
   ]
  },
  {
   "cell_type": "code",
   "execution_count": 3,
   "id": "004f6ddb",
   "metadata": {},
   "outputs": [
    {
     "data": {
      "text/html": [
       "<div>\n",
       "<style scoped>\n",
       "    .dataframe tbody tr th:only-of-type {\n",
       "        vertical-align: middle;\n",
       "    }\n",
       "\n",
       "    .dataframe tbody tr th {\n",
       "        vertical-align: top;\n",
       "    }\n",
       "\n",
       "    .dataframe thead th {\n",
       "        text-align: right;\n",
       "    }\n",
       "</style>\n",
       "<table border=\"1\" class=\"dataframe\">\n",
       "  <thead>\n",
       "    <tr style=\"text-align: right;\">\n",
       "      <th></th>\n",
       "      <th>ID</th>\n",
       "      <th>Altura</th>\n",
       "    </tr>\n",
       "  </thead>\n",
       "  <tbody>\n",
       "    <tr>\n",
       "      <th>45</th>\n",
       "      <td>46</td>\n",
       "      <td>1.979</td>\n",
       "    </tr>\n",
       "    <tr>\n",
       "      <th>46</th>\n",
       "      <td>47</td>\n",
       "      <td>1.760</td>\n",
       "    </tr>\n",
       "    <tr>\n",
       "      <th>47</th>\n",
       "      <td>48</td>\n",
       "      <td>1.983</td>\n",
       "    </tr>\n",
       "    <tr>\n",
       "      <th>48</th>\n",
       "      <td>49</td>\n",
       "      <td>1.961</td>\n",
       "    </tr>\n",
       "    <tr>\n",
       "      <th>49</th>\n",
       "      <td>50</td>\n",
       "      <td>1.648</td>\n",
       "    </tr>\n",
       "  </tbody>\n",
       "</table>\n",
       "</div>"
      ],
      "text/plain": [
       "    ID  Altura\n",
       "45  46   1.979\n",
       "46  47   1.760\n",
       "47  48   1.983\n",
       "48  49   1.961\n",
       "49  50   1.648"
      ]
     },
     "execution_count": 3,
     "metadata": {},
     "output_type": "execute_result"
    }
   ],
   "source": [
    "# Visualizar as últimas linhas da tabela\n",
    "df.tail()"
   ]
  },
  {
   "cell_type": "code",
   "execution_count": 4,
   "id": "b447a9e5",
   "metadata": {},
   "outputs": [
    {
     "name": "stdout",
     "output_type": "stream",
     "text": [
      "<class 'pandas.core.frame.DataFrame'>\n",
      "RangeIndex: 50 entries, 0 to 49\n",
      "Data columns (total 2 columns):\n",
      " #   Column  Non-Null Count  Dtype  \n",
      "---  ------  --------------  -----  \n",
      " 0   ID      50 non-null     int64  \n",
      " 1   Altura  50 non-null     float64\n",
      "dtypes: float64(1), int64(1)\n",
      "memory usage: 932.0 bytes\n"
     ]
    }
   ],
   "source": [
    "# Conferir os tipos de dados\n",
    "df.info()"
   ]
  },
  {
   "cell_type": "code",
   "execution_count": 5,
   "id": "82366dda",
   "metadata": {},
   "outputs": [],
   "source": [
    "# Definição da variável da 'amostra'\n",
    "amostra = df[\"Altura\"].to_numpy()"
   ]
  },
  {
   "cell_type": "code",
   "execution_count": 6,
   "id": "1931f4ed",
   "metadata": {},
   "outputs": [
    {
     "name": "stdout",
     "output_type": "stream",
     "text": [
      "Média: 1.82\n",
      "Tamanho da amostra: 50\n",
      "Variância amostral: 0.08\n",
      "Erro padrão da média: 0.04\n"
     ]
    }
   ],
   "source": [
    "# Estatísticas básicas\n",
    "media = np.mean(amostra)\n",
    "n = len(amostra)\n",
    "variancia_amostral = np.var(amostra, ddof=1)\n",
    "erro_padrao = np.sqrt(variancia_amostral / n)\n",
    "\n",
    "# Exibir os resultados\n",
    "print(f\"Média: {media:.2f}\")\n",
    "print(f\"Tamanho da amostra: {n}\")\n",
    "print(f\"Variância amostral: {variancia_amostral:.2f}\")\n",
    "print(f\"Erro padrão da média: {erro_padrao:.2f}\")"
   ]
  },
  {
   "cell_type": "code",
   "execution_count": 15,
   "id": "a76fa040",
   "metadata": {},
   "outputs": [],
   "source": [
    "# Nível de confiança de 90%)\n",
    "conf_90 = 0.90\n",
    "\n",
    "# Nível de confiança de 95%)\n",
    "conf_95 = 0.95\n",
    "\n",
    "# Nível de confiança de 99%)\n",
    "conf_99 = 0.99"
   ]
  },
  {
   "cell_type": "code",
   "execution_count": 16,
   "id": "64a68f2b",
   "metadata": {},
   "outputs": [
    {
     "name": "stdout",
     "output_type": "stream",
     "text": [
      "\n",
      "🔹 Intervalo de Confiança de 90%:\n",
      "T-Crítico: 1.68\n",
      "Limite Inferior: 1.75\n",
      "Limite Superior: 1.89\n",
      "\n",
      "🔹 Intervalo de Confiança de 95%:\n",
      "T-Crítico: 2.01\n",
      "Limite Inferior: 1.74\n",
      "Limite Superior: 1.90\n",
      "\n",
      "🔹 Intervalo de Confiança de 99%:\n",
      "T-Crítico: 2.68\n",
      "Limite Inferior: 1.71\n",
      "Limite Superior: 1.92\n"
     ]
    }
   ],
   "source": [
    "# Função para calcular intervalo de confiança\n",
    "def intervalo_confianca(conf, media, erro_padrao, n):\n",
    "    t_critico = abs(stats.t.ppf((1 - conf) / 2, df=n-1))\n",
    "    limite_inferior = media - t_critico * erro_padrao\n",
    "    limite_superior = media + t_critico * erro_padrao\n",
    "    return t_critico, limite_inferior, limite_superior\n",
    "\n",
    "# Intervalo de confiança de 90%\n",
    "t_critico_90, limite_inferior_90, limite_superior_90 = intervalo_confianca(conf_90, media, erro_padrao, n)\n",
    "\n",
    "# Intervalo de confiança de 95%\n",
    "t_critico_95, limite_inferior_95, limite_superior_95 = intervalo_confianca(conf_95, media, erro_padrao, n)\n",
    "\n",
    "# Intervalo de confiança de 99%\n",
    "t_critico_99, limite_inferior_99, limite_superior_99 = intervalo_confianca(conf_99, media, erro_padrao, n)\n",
    "\n",
    "# Exibir resultados\n",
    "print(\"\\n🔹 Intervalo de Confiança de 90%:\")\n",
    "print(f\"T-Crítico: {t_critico_90:.2f}\")\n",
    "print(f\"Limite Inferior: {limite_inferior_90:.2f}\")\n",
    "print(f\"Limite Superior: {limite_superior_90:.2f}\")\n",
    "\n",
    "# Exibir resultados\n",
    "print(\"\\n🔹 Intervalo de Confiança de 95%:\")\n",
    "print(f\"T-Crítico: {t_critico_95:.2f}\")\n",
    "print(f\"Limite Inferior: {limite_inferior_95:.2f}\")\n",
    "print(f\"Limite Superior: {limite_superior_95:.2f}\")\n",
    "\n",
    "print(\"\\n🔹 Intervalo de Confiança de 99%:\")\n",
    "print(f\"T-Crítico: {t_critico_99:.2f}\")\n",
    "print(f\"Limite Inferior: {limite_inferior_99:.2f}\")\n",
    "print(f\"Limite Superior: {limite_superior_99:.2f}\")"
   ]
  }
 ],
 "metadata": {
  "kernelspec": {
   "display_name": "Python (venv)",
   "language": "python",
   "name": "venv"
  },
  "language_info": {
   "codemirror_mode": {
    "name": "ipython",
    "version": 3
   },
   "file_extension": ".py",
   "mimetype": "text/x-python",
   "name": "python",
   "nbconvert_exporter": "python",
   "pygments_lexer": "ipython3",
   "version": "3.13.0"
  }
 },
 "nbformat": 4,
 "nbformat_minor": 5
}
