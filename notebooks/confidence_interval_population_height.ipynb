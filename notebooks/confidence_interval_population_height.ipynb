{
 "cells": [
  {
   "cell_type": "markdown",
   "id": "3533e7c9",
   "metadata": {},
   "source": [
    "# Importação das Bibliotecas"
   ]
  },
  {
   "cell_type": "code",
   "execution_count": 1,
   "id": "162af09b",
   "metadata": {},
   "outputs": [],
   "source": [
    "import numpy as np\n",
    "import pandas as pd\n",
    "import scipy.stats as stats\n",
    "from scipy import stats"
   ]
  },
  {
   "cell_type": "markdown",
   "id": "dc563ffd",
   "metadata": {},
   "source": [
    "# Leitura e Análise da Base"
   ]
  },
  {
   "cell_type": "code",
   "execution_count": 2,
   "id": "d290bc96",
   "metadata": {},
   "outputs": [
    {
     "data": {
      "text/html": [
       "<div>\n",
       "<style scoped>\n",
       "    .dataframe tbody tr th:only-of-type {\n",
       "        vertical-align: middle;\n",
       "    }\n",
       "\n",
       "    .dataframe tbody tr th {\n",
       "        vertical-align: top;\n",
       "    }\n",
       "\n",
       "    .dataframe thead th {\n",
       "        text-align: right;\n",
       "    }\n",
       "</style>\n",
       "<table border=\"1\" class=\"dataframe\">\n",
       "  <thead>\n",
       "    <tr style=\"text-align: right;\">\n",
       "      <th></th>\n",
       "      <th>ID</th>\n",
       "      <th>Altura</th>\n",
       "    </tr>\n",
       "  </thead>\n",
       "  <tbody>\n",
       "    <tr>\n",
       "      <th>0</th>\n",
       "      <td>1</td>\n",
       "      <td>1.412</td>\n",
       "    </tr>\n",
       "    <tr>\n",
       "      <th>1</th>\n",
       "      <td>2</td>\n",
       "      <td>1.966</td>\n",
       "    </tr>\n",
       "    <tr>\n",
       "      <th>2</th>\n",
       "      <td>3</td>\n",
       "      <td>2.666</td>\n",
       "    </tr>\n",
       "    <tr>\n",
       "      <th>3</th>\n",
       "      <td>4</td>\n",
       "      <td>2.000</td>\n",
       "    </tr>\n",
       "    <tr>\n",
       "      <th>4</th>\n",
       "      <td>5</td>\n",
       "      <td>1.402</td>\n",
       "    </tr>\n",
       "  </tbody>\n",
       "</table>\n",
       "</div>"
      ],
      "text/plain": [
       "   ID  Altura\n",
       "0   1   1.412\n",
       "1   2   1.966\n",
       "2   3   2.666\n",
       "3   4   2.000\n",
       "4   5   1.402"
      ]
     },
     "execution_count": 2,
     "metadata": {},
     "output_type": "execute_result"
    }
   ],
   "source": [
    "# Leitura da planilha \n",
    "DADOS = r\"C:\\Users\\rodri\\OneDrive\\Sincronização\\Documentos\\GitHub\\confidence-interval-car-suitability-sweden\\data\\sample_population_height.xlsx\"\n",
    "df = pd.read_excel(DADOS)\n",
    "\n",
    "# Visualizar as primeiras linhas da tabela\n",
    "df.head()"
   ]
  },
  {
   "cell_type": "code",
   "execution_count": 3,
   "id": "d5b2cdb7",
   "metadata": {},
   "outputs": [
    {
     "data": {
      "text/html": [
       "<div>\n",
       "<style scoped>\n",
       "    .dataframe tbody tr th:only-of-type {\n",
       "        vertical-align: middle;\n",
       "    }\n",
       "\n",
       "    .dataframe tbody tr th {\n",
       "        vertical-align: top;\n",
       "    }\n",
       "\n",
       "    .dataframe thead th {\n",
       "        text-align: right;\n",
       "    }\n",
       "</style>\n",
       "<table border=\"1\" class=\"dataframe\">\n",
       "  <thead>\n",
       "    <tr style=\"text-align: right;\">\n",
       "      <th></th>\n",
       "      <th>ID</th>\n",
       "      <th>Altura</th>\n",
       "    </tr>\n",
       "  </thead>\n",
       "  <tbody>\n",
       "    <tr>\n",
       "      <th>45</th>\n",
       "      <td>46</td>\n",
       "      <td>1.979</td>\n",
       "    </tr>\n",
       "    <tr>\n",
       "      <th>46</th>\n",
       "      <td>47</td>\n",
       "      <td>1.760</td>\n",
       "    </tr>\n",
       "    <tr>\n",
       "      <th>47</th>\n",
       "      <td>48</td>\n",
       "      <td>1.983</td>\n",
       "    </tr>\n",
       "    <tr>\n",
       "      <th>48</th>\n",
       "      <td>49</td>\n",
       "      <td>1.961</td>\n",
       "    </tr>\n",
       "    <tr>\n",
       "      <th>49</th>\n",
       "      <td>50</td>\n",
       "      <td>1.648</td>\n",
       "    </tr>\n",
       "  </tbody>\n",
       "</table>\n",
       "</div>"
      ],
      "text/plain": [
       "    ID  Altura\n",
       "45  46   1.979\n",
       "46  47   1.760\n",
       "47  48   1.983\n",
       "48  49   1.961\n",
       "49  50   1.648"
      ]
     },
     "execution_count": 3,
     "metadata": {},
     "output_type": "execute_result"
    }
   ],
   "source": [
    "# Visualizar as últimas linhas da tabela\n",
    "df.tail()"
   ]
  },
  {
   "cell_type": "code",
   "execution_count": 4,
   "id": "2adbcd2a",
   "metadata": {},
   "outputs": [
    {
     "name": "stdout",
     "output_type": "stream",
     "text": [
      "<class 'pandas.core.frame.DataFrame'>\n",
      "RangeIndex: 50 entries, 0 to 49\n",
      "Data columns (total 2 columns):\n",
      " #   Column  Non-Null Count  Dtype  \n",
      "---  ------  --------------  -----  \n",
      " 0   ID      50 non-null     int64  \n",
      " 1   Altura  50 non-null     float64\n",
      "dtypes: float64(1), int64(1)\n",
      "memory usage: 932.0 bytes\n"
     ]
    }
   ],
   "source": [
    "# Conferir os tipos de dados\n",
    "df.info()"
   ]
  },
  {
   "cell_type": "markdown",
   "id": "d75f90e2",
   "metadata": {},
   "source": [
    "# Problema de Negócio"
   ]
  },
  {
   "cell_type": "markdown",
   "id": "0f8c7323",
   "metadata": {},
   "source": [
    "## Contexto\n",
    "\n",
    "Uma montadora brasileira decidiu expandir sua atuação internacional e exportar um novo modelo de veículo para a Suécia. No entanto, antes de iniciar as exportações, surgiu uma questão crucial: \n",
    "\n",
    "- os ajustes dos bancos dianteiros foram desenvolvidos com base na altura média dos brasileiros. Seriam esses ajustes adequados para os consumidores suecos, cuja estatura pode ser diferente?\n",
    "\n",
    "Para responder a essa pergunta, a empresa contratou uma consultoria estatística para analisar a altura média da população sueca e determinar se seria necessária uma adaptação nos ajustes dos bancos."
   ]
  },
  {
   "cell_type": "markdown",
   "id": "567ab941",
   "metadata": {},
   "source": [
    "## Objetivo\n",
    "O estudo teve como objetivo calcular:\n",
    "- A estimativa pontual da altura média da população sueca\n",
    "- Intervalos de confiança para a altura média com níveis de 90% e 99%\n",
    "- Análise comparativa com a altura média brasileira (1,73m) para tomada de decisão sobre ajustes nos bancos"
   ]
  },
  {
   "cell_type": "markdown",
   "id": "09e5007a",
   "metadata": {},
   "source": [
    "# Resolução"
   ]
  },
  {
   "cell_type": "code",
   "execution_count": 17,
   "id": "5303d500",
   "metadata": {},
   "outputs": [],
   "source": [
    "# Definição da variável da 'amostra'\n",
    "amostra = df[\"Altura\"].to_numpy()"
   ]
  },
  {
   "cell_type": "code",
   "execution_count": 6,
   "id": "f63f69ea",
   "metadata": {},
   "outputs": [
    {
     "name": "stdout",
     "output_type": "stream",
     "text": [
      "Média: 1.82\n",
      "Tamanho da amostra: 50\n",
      "Variância amostral: 0.08\n",
      "Erro padrão da média: 0.04\n"
     ]
    }
   ],
   "source": [
    "# Estatísticas básicas\n",
    "media = np.mean(amostra)\n",
    "n = len(amostra)\n",
    "variancia_amostral = np.var(amostra, ddof=1)\n",
    "erro_padrao = np.sqrt(variancia_amostral / n)\n",
    "\n",
    "# Exibir os resultados\n",
    "print(f\"Média: {media:.2f}\")\n",
    "print(f\"Tamanho da Amostra: {n}\")\n",
    "print(f\"Variância Amostral: {variancia_amostral:.2f}\")\n",
    "print(f\"Erro Padrão da Média: {erro_padrao:.2f}\")"
   ]
  },
  {
   "cell_type": "code",
   "execution_count": 23,
   "id": "a4078ce8",
   "metadata": {},
   "outputs": [
    {
     "data": {
      "text/html": [
       "<div>\n",
       "<style scoped>\n",
       "    .dataframe tbody tr th:only-of-type {\n",
       "        vertical-align: middle;\n",
       "    }\n",
       "\n",
       "    .dataframe tbody tr th {\n",
       "        vertical-align: top;\n",
       "    }\n",
       "\n",
       "    .dataframe thead th {\n",
       "        text-align: right;\n",
       "    }\n",
       "</style>\n",
       "<table border=\"1\" class=\"dataframe\">\n",
       "  <thead>\n",
       "    <tr style=\"text-align: right;\">\n",
       "      <th></th>\n",
       "      <th>Média</th>\n",
       "      <th>Tamanho da Amostra</th>\n",
       "      <th>Variância Amostral</th>\n",
       "      <th>Erro Padrão da Média</th>\n",
       "    </tr>\n",
       "  </thead>\n",
       "  <tbody>\n",
       "    <tr>\n",
       "      <th>0</th>\n",
       "      <td>1.82</td>\n",
       "      <td>50</td>\n",
       "      <td>0.08</td>\n",
       "      <td>0.04</td>\n",
       "    </tr>\n",
       "  </tbody>\n",
       "</table>\n",
       "</div>"
      ],
      "text/plain": [
       "  Média  Tamanho da Amostra Variância Amostral Erro Padrão da Média\n",
       "0  1.82                  50               0.08                 0.04"
      ]
     },
     "execution_count": 23,
     "metadata": {},
     "output_type": "execute_result"
    }
   ],
   "source": [
    "# DataFrame com as medidas básicas\n",
    "df_resumo = pd.DataFrame({\n",
    "    \"Média\": [f\"{media:.2f}\"],\n",
    "    \"Tamanho da Amostra\": [n],\n",
    "    \"Variância Amostral\": [f\"{variancia_amostral:.2f}\"],\n",
    "    \"Erro Padrão da Média\": [f\"{erro_padrao:.2f}\"]   \n",
    "})\n",
    "\n",
    "df_resumo"
   ]
  },
  {
   "cell_type": "code",
   "execution_count": 24,
   "id": "7f1d0d9c",
   "metadata": {},
   "outputs": [
    {
     "name": "stdout",
     "output_type": "stream",
     "text": [
      "\n",
      "🔹 Intervalo de Confiança de 90%:\n",
      "T-Crítico: 1.68\n",
      "Limite Inferior: 1.75\n",
      "Limite Superior: 1.89\n",
      "\n",
      "🔹 Intervalo de Confiança de 95%:\n",
      "T-Crítico: 2.01\n",
      "Limite Inferior: 1.74\n",
      "Limite Superior: 1.90\n",
      "\n",
      "🔹 Intervalo de Confiança de 99%:\n",
      "T-Crítico: 2.68\n",
      "Limite Inferior: 1.71\n",
      "Limite Superior: 1.92\n"
     ]
    }
   ],
   "source": [
    "# Nível de confiança de 90%\n",
    "conf_90 = 0.90\n",
    "\n",
    "# Nível de confiança de 95%\n",
    "conf_95 = 0.95\n",
    "\n",
    "# Nível de confiança de 99%\n",
    "conf_99 = 0.99\n",
    "\n",
    "# Função para calcular intervalo de confiança\n",
    "def intervalo_confianca(conf, media, erro_padrao, n):\n",
    "    t_critico = abs(stats.t.ppf((1 - conf) / 2, df=n-1))\n",
    "    limite_inferior = media - t_critico * erro_padrao\n",
    "    limite_superior = media + t_critico * erro_padrao\n",
    "    return t_critico, limite_inferior, limite_superior\n",
    "\n",
    "# Intervalo de confiança de 90%\n",
    "t_critico_90, limite_inferior_90, limite_superior_90 = intervalo_confianca(conf_90, media, erro_padrao, n)\n",
    "\n",
    "# Intervalo de confiança de 95%\n",
    "t_critico_95, limite_inferior_95, limite_superior_95 = intervalo_confianca(conf_95, media, erro_padrao, n)\n",
    "\n",
    "# Intervalo de confiança de 99%\n",
    "t_critico_99, limite_inferior_99, limite_superior_99 = intervalo_confianca(conf_99, media, erro_padrao, n)\n",
    "\n",
    "# Exibir resultados\n",
    "print(\"\\n🔹 Intervalo de Confiança de 90%:\")\n",
    "print(f\"T-Crítico: {t_critico_90:.2f}\")\n",
    "print(f\"Limite Inferior: {limite_inferior_90:.2f}\")\n",
    "print(f\"Limite Superior: {limite_superior_90:.2f}\")\n",
    "\n",
    "# Exibir resultados\n",
    "print(\"\\n🔹 Intervalo de Confiança de 95%:\")\n",
    "print(f\"T-Crítico: {t_critico_95:.2f}\")\n",
    "print(f\"Limite Inferior: {limite_inferior_95:.2f}\")\n",
    "print(f\"Limite Superior: {limite_superior_95:.2f}\")\n",
    "\n",
    "print(\"\\n🔹 Intervalo de Confiança de 99%:\")\n",
    "print(f\"T-Crítico: {t_critico_99:.2f}\")\n",
    "print(f\"Limite Inferior: {limite_inferior_99:.2f}\")\n",
    "print(f\"Limite Superior: {limite_superior_99:.2f}\")"
   ]
  },
  {
   "cell_type": "markdown",
   "id": "cea361d7",
   "metadata": {},
   "source": [
    "#### Estimativa Pontual \n",
    "A altura média estimada da população sueca, com base na amostra, foi de 1,82m.\n",
    "\n",
    "#### Intervalos de Confiança:\n",
    "\n",
    "- 90% de confiança: [1,75m - 1,89m]\n",
    "- 95% de confiança: [1,74m - 1,90m]\n",
    "- 99% de confiança: [1,71m - 1,92m]\n",
    "\n",
    "#### Interpretação do Resultado\n",
    "Considerando, por exemplo o intervalo de confiança de 90%: se realizássemos um **grande número de amostras aleatórioas de tamanho n** e calculássemos o **Intervalo de Confiança** para todas elas, 90% desses intervalos conteriam a real média da população.\n",
    "\n",
    "Sendo assim, os intervalos de confiança representam a faixa de valores na qual, com determinado nível de confiança (90%, 95%, 99%), podemos afirmar que **a verdadeira média da altura da população está contida**. À medida que o coeficiente de confiança aumenta, o intervalo de confiança se expande para garantir maior certeza na estimativa.\n",
    "\n",
    "#### Comparação com a Altura Média Brasileira\n",
    "A altura média brasileira é de 1,73m, enquanto a altura média sueca (estimada pela amostra) foi superior. Isso indica que os ajustes dos bancos do carro precisarão ser modificados para garantir conforto e ergonomia aos consumidores suecos.\n",
    "\n",
    "Ao analisar o intervalo de confiança, temos que 1,73m não está no intervalo de confiança de 90%, mas está no de 99%. O ideal seria ter o intervalo de confiança da altura brasileira, não somente a estimativa pontual da altura média. \n",
    "\n",
    "No entanto, para uma melhor decisão sobre a adaptação dos bancos, **não devemos apenas considerar as médias pontuais**. Um **teste de hipóteses (como o teste t de Student)** poderia ser útil para verificar se a diferença nas médias de altura entre brasileiros e suecos é estatisticamente significativa. "
   ]
  }
 ],
 "metadata": {
  "kernelspec": {
   "display_name": "Python (venv)",
   "language": "python",
   "name": "venv"
  },
  "language_info": {
   "codemirror_mode": {
    "name": "ipython",
    "version": 3
   },
   "file_extension": ".py",
   "mimetype": "text/x-python",
   "name": "python",
   "nbconvert_exporter": "python",
   "pygments_lexer": "ipython3",
   "version": "3.13.0"
  }
 },
 "nbformat": 4,
 "nbformat_minor": 5
}
